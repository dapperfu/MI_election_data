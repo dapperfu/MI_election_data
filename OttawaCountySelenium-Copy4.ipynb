{
 "cells": [
  {
   "cell_type": "code",
   "execution_count": 8,
   "metadata": {},
   "outputs": [],
   "source": [
    "from   selenium import webdriver\n",
    "from   selenium.common.exceptions import TimeoutException\n",
    "import time\n",
    "from selenium.webdriver.common.keys import Keys"
   ]
  },
  {
   "cell_type": "code",
   "execution_count": 9,
   "metadata": {},
   "outputs": [],
   "source": [
    "results_base_url = \"https://elections.miottawa.org/ElectionResults/\""
   ]
  },
  {
   "cell_type": "code",
   "execution_count": 14,
   "metadata": {},
   "outputs": [
    {
     "ename": "AttributeError",
     "evalue": "'WebDriver' object has no attribute 'send_keys'",
     "output_type": "error",
     "traceback": [
      "\u001b[0;31m---------------------------------------------------------------------------\u001b[0m",
      "\u001b[0;31mAttributeError\u001b[0m                            Traceback (most recent call last)",
      "\u001b[0;32m<ipython-input-14-b61d15779ef2>\u001b[0m in \u001b[0;36m<module>\u001b[0;34m\u001b[0m\n\u001b[1;32m     12\u001b[0m         \u001b[0mtime\u001b[0m\u001b[0;34m.\u001b[0m\u001b[0msleep\u001b[0m\u001b[0;34m(\u001b[0m\u001b[0;36m1\u001b[0m\u001b[0;34m)\u001b[0m\u001b[0;34m\u001b[0m\u001b[0;34m\u001b[0m\u001b[0m\n\u001b[1;32m     13\u001b[0m         \u001b[0;32mfor\u001b[0m \u001b[0m_\u001b[0m \u001b[0;32min\u001b[0m \u001b[0mrange\u001b[0m\u001b[0;34m(\u001b[0m\u001b[0midx\u001b[0m\u001b[0;34m+\u001b[0m\u001b[0;36m1\u001b[0m\u001b[0;34m)\u001b[0m\u001b[0;34m:\u001b[0m\u001b[0;34m\u001b[0m\u001b[0;34m\u001b[0m\u001b[0m\n\u001b[0;32m---> 14\u001b[0;31m             \u001b[0mbrowser\u001b[0m\u001b[0;34m.\u001b[0m\u001b[0msend_keys\u001b[0m\u001b[0;34m(\u001b[0m\u001b[0mKeys\u001b[0m\u001b[0;34m.\u001b[0m\u001b[0mDOWN\u001b[0m\u001b[0;34m)\u001b[0m\u001b[0;34m\u001b[0m\u001b[0;34m\u001b[0m\u001b[0m\n\u001b[0m\u001b[1;32m     15\u001b[0m             \u001b[0mtime\u001b[0m\u001b[0;34m.\u001b[0m\u001b[0msleep\u001b[0m\u001b[0;34m(\u001b[0m\u001b[0;36m1\u001b[0m\u001b[0;34m)\u001b[0m\u001b[0;34m\u001b[0m\u001b[0;34m\u001b[0m\u001b[0m\n\u001b[1;32m     16\u001b[0m         \u001b[0mbrowser\u001b[0m\u001b[0;34m.\u001b[0m\u001b[0msend_keys\u001b[0m\u001b[0;34m(\u001b[0m\u001b[0mKeys\u001b[0m\u001b[0;34m.\u001b[0m\u001b[0mENTER\u001b[0m\u001b[0;34m)\u001b[0m\u001b[0;34m\u001b[0m\u001b[0;34m\u001b[0m\u001b[0m\n",
      "\u001b[0;31mAttributeError\u001b[0m: 'WebDriver' object has no attribute 'send_keys'"
     ]
    }
   ],
   "source": [
    "with webdriver.Firefox() as browser:\n",
    "    browser.get(results_base_url)\n",
    "    election_select = browser.find_element_by_id(\"ddElections\")\n",
    "    time.sleep(2)\n",
    "    elections = election_select.text.split(\"\\n\")[1:]\n",
    "    elections = [str(election) for election in elections]\n",
    "    for idx, election_date in enumerate(elections):\n",
    "        browser.get(results_base_url)\n",
    "        election_select = browser.find_element_by_id(\"ddElections\")\n",
    "        time.sleep(1)\n",
    "        election_select.click()\n",
    "        time.sleep(1)\n",
    "        for _ in range(idx+1):\n",
    "            browser.send_keys(Keys.DOWN)\n",
    "            time.sleep(1)\n",
    "        browser.send_keys(Keys.ENTER)\n",
    "        time.sleep(1)\n",
    "        export_link = browser.find_element_by_link_text(\"Export\")\n",
    "        export_link.click()"
   ]
  },
  {
   "cell_type": "code",
   "execution_count": 39,
   "metadata": {},
   "outputs": [],
   "source": [
    "browser = webdriver.Firefox()"
   ]
  },
  {
   "cell_type": "code",
   "execution_count": null,
   "metadata": {},
   "outputs": [],
   "source": [
    "browser.get(results_base_url)\n",
    "election_select = browser.find_element_by_id(\"ddElections\")\n",
    "time.sleep(2)\n",
    "elections = election_select.text.split(\"\\n\")[1:]\n",
    "elections = [str(election) for election in elections]\n",
    "for idx, election_date in enumerate(elections):\n",
    "    browser.get(results_base_url)\n",
    "    election_select = browser.find_element_by_id(\"ddElections\")\n",
    "    break"
   ]
  },
  {
   "cell_type": "code",
   "execution_count": 22,
   "metadata": {
    "scrolled": true
   },
   "outputs": [
    {
     "data": {
      "text/plain": [
       "[<selenium.webdriver.firefox.webelement.FirefoxWebElement (session=\"8e005c7c-b799-4b11-976a-e246c7ea06b2\", element=\"41b03737-a5e5-4d64-8b60-d0cebfd3cb11\")>,\n",
       " <selenium.webdriver.firefox.webelement.FirefoxWebElement (session=\"8e005c7c-b799-4b11-976a-e246c7ea06b2\", element=\"bb3f8897-abdb-40bc-b6b6-f85eabd13a32\")>,\n",
       " <selenium.webdriver.firefox.webelement.FirefoxWebElement (session=\"8e005c7c-b799-4b11-976a-e246c7ea06b2\", element=\"f4ffa3df-b583-49cd-9dfb-aaaa89f2637c\")>,\n",
       " <selenium.webdriver.firefox.webelement.FirefoxWebElement (session=\"8e005c7c-b799-4b11-976a-e246c7ea06b2\", element=\"12406a9f-1189-4d44-8d71-e2bf4235cc58\")>,\n",
       " <selenium.webdriver.firefox.webelement.FirefoxWebElement (session=\"8e005c7c-b799-4b11-976a-e246c7ea06b2\", element=\"b8f938c3-0be6-48a3-a5d1-94336a3ebe1a\")>,\n",
       " <selenium.webdriver.firefox.webelement.FirefoxWebElement (session=\"8e005c7c-b799-4b11-976a-e246c7ea06b2\", element=\"a182002f-6e75-4f5b-9694-9d8d01463d1a\")>,\n",
       " <selenium.webdriver.firefox.webelement.FirefoxWebElement (session=\"8e005c7c-b799-4b11-976a-e246c7ea06b2\", element=\"99ce14a5-7cce-4ed5-8e62-65044fc7db81\")>,\n",
       " <selenium.webdriver.firefox.webelement.FirefoxWebElement (session=\"8e005c7c-b799-4b11-976a-e246c7ea06b2\", element=\"2f713e94-db6b-4475-be61-f84e2a1686ff\")>,\n",
       " <selenium.webdriver.firefox.webelement.FirefoxWebElement (session=\"8e005c7c-b799-4b11-976a-e246c7ea06b2\", element=\"c9ea3edd-c680-4011-b321-7c373a638653\")>,\n",
       " <selenium.webdriver.firefox.webelement.FirefoxWebElement (session=\"8e005c7c-b799-4b11-976a-e246c7ea06b2\", element=\"fd6b2079-7f9b-4c0c-8b1d-4910cf30b376\")>,\n",
       " <selenium.webdriver.firefox.webelement.FirefoxWebElement (session=\"8e005c7c-b799-4b11-976a-e246c7ea06b2\", element=\"fec0c337-3530-4017-b893-221792cec218\")>,\n",
       " <selenium.webdriver.firefox.webelement.FirefoxWebElement (session=\"8e005c7c-b799-4b11-976a-e246c7ea06b2\", element=\"383955ad-90e3-44b1-b283-64079a489501\")>,\n",
       " <selenium.webdriver.firefox.webelement.FirefoxWebElement (session=\"8e005c7c-b799-4b11-976a-e246c7ea06b2\", element=\"2e104504-0687-4730-a979-a9ce8f7f555a\")>,\n",
       " <selenium.webdriver.firefox.webelement.FirefoxWebElement (session=\"8e005c7c-b799-4b11-976a-e246c7ea06b2\", element=\"6cf10078-3fbe-4e23-b689-e0248d3a775e\")>,\n",
       " <selenium.webdriver.firefox.webelement.FirefoxWebElement (session=\"8e005c7c-b799-4b11-976a-e246c7ea06b2\", element=\"0624f5dd-e25b-4d5b-bce9-f13023a4f22a\")>,\n",
       " <selenium.webdriver.firefox.webelement.FirefoxWebElement (session=\"8e005c7c-b799-4b11-976a-e246c7ea06b2\", element=\"5bfb2c5f-b367-4f29-a476-dc33ee89cabb\")>,\n",
       " <selenium.webdriver.firefox.webelement.FirefoxWebElement (session=\"8e005c7c-b799-4b11-976a-e246c7ea06b2\", element=\"9ba9d28e-03df-40f3-b840-979c1e440b8d\")>,\n",
       " <selenium.webdriver.firefox.webelement.FirefoxWebElement (session=\"8e005c7c-b799-4b11-976a-e246c7ea06b2\", element=\"226b2341-1b89-40bb-9471-1a159c32ea4a\")>,\n",
       " <selenium.webdriver.firefox.webelement.FirefoxWebElement (session=\"8e005c7c-b799-4b11-976a-e246c7ea06b2\", element=\"144527cb-db33-4eb6-a9ee-b53b9e130043\")>,\n",
       " <selenium.webdriver.firefox.webelement.FirefoxWebElement (session=\"8e005c7c-b799-4b11-976a-e246c7ea06b2\", element=\"7bb8a74c-2509-444a-83a8-34b564fb556d\")>,\n",
       " <selenium.webdriver.firefox.webelement.FirefoxWebElement (session=\"8e005c7c-b799-4b11-976a-e246c7ea06b2\", element=\"c364f2d2-5127-4fc8-a9fb-e149390485b6\")>,\n",
       " <selenium.webdriver.firefox.webelement.FirefoxWebElement (session=\"8e005c7c-b799-4b11-976a-e246c7ea06b2\", element=\"c7f19fb7-2ed6-4952-b7aa-402a076ecb70\")>,\n",
       " <selenium.webdriver.firefox.webelement.FirefoxWebElement (session=\"8e005c7c-b799-4b11-976a-e246c7ea06b2\", element=\"48f82a38-3691-4693-9ef3-9accb9ab4b2f\")>,\n",
       " <selenium.webdriver.firefox.webelement.FirefoxWebElement (session=\"8e005c7c-b799-4b11-976a-e246c7ea06b2\", element=\"84f68b3e-90d3-4c43-a3f4-39607389cce1\")>,\n",
       " <selenium.webdriver.firefox.webelement.FirefoxWebElement (session=\"8e005c7c-b799-4b11-976a-e246c7ea06b2\", element=\"bf412338-8530-495c-8982-670467653ac0\")>,\n",
       " <selenium.webdriver.firefox.webelement.FirefoxWebElement (session=\"8e005c7c-b799-4b11-976a-e246c7ea06b2\", element=\"3aba4fef-9f58-4c83-b0b8-9f23353ae9bc\")>,\n",
       " <selenium.webdriver.firefox.webelement.FirefoxWebElement (session=\"8e005c7c-b799-4b11-976a-e246c7ea06b2\", element=\"ec57796e-dad9-4784-a4c0-328f971a058b\")>]"
      ]
     },
     "execution_count": 22,
     "metadata": {},
     "output_type": "execute_result"
    }
   ],
   "source": [
    "election_select.find_elements_by_tag_name(\"option\")"
   ]
  },
  {
   "cell_type": "code",
   "execution_count": 23,
   "metadata": {},
   "outputs": [],
   "source": [
    "election_options = election_select.find_elements_by_tag_name(\"option\")"
   ]
  },
  {
   "cell_type": "code",
   "execution_count": 24,
   "metadata": {},
   "outputs": [
    {
     "data": {
      "text/plain": [
       "[<selenium.webdriver.firefox.webelement.FirefoxWebElement (session=\"8e005c7c-b799-4b11-976a-e246c7ea06b2\", element=\"41b03737-a5e5-4d64-8b60-d0cebfd3cb11\")>,\n",
       " <selenium.webdriver.firefox.webelement.FirefoxWebElement (session=\"8e005c7c-b799-4b11-976a-e246c7ea06b2\", element=\"bb3f8897-abdb-40bc-b6b6-f85eabd13a32\")>,\n",
       " <selenium.webdriver.firefox.webelement.FirefoxWebElement (session=\"8e005c7c-b799-4b11-976a-e246c7ea06b2\", element=\"f4ffa3df-b583-49cd-9dfb-aaaa89f2637c\")>,\n",
       " <selenium.webdriver.firefox.webelement.FirefoxWebElement (session=\"8e005c7c-b799-4b11-976a-e246c7ea06b2\", element=\"12406a9f-1189-4d44-8d71-e2bf4235cc58\")>,\n",
       " <selenium.webdriver.firefox.webelement.FirefoxWebElement (session=\"8e005c7c-b799-4b11-976a-e246c7ea06b2\", element=\"b8f938c3-0be6-48a3-a5d1-94336a3ebe1a\")>,\n",
       " <selenium.webdriver.firefox.webelement.FirefoxWebElement (session=\"8e005c7c-b799-4b11-976a-e246c7ea06b2\", element=\"a182002f-6e75-4f5b-9694-9d8d01463d1a\")>,\n",
       " <selenium.webdriver.firefox.webelement.FirefoxWebElement (session=\"8e005c7c-b799-4b11-976a-e246c7ea06b2\", element=\"99ce14a5-7cce-4ed5-8e62-65044fc7db81\")>,\n",
       " <selenium.webdriver.firefox.webelement.FirefoxWebElement (session=\"8e005c7c-b799-4b11-976a-e246c7ea06b2\", element=\"2f713e94-db6b-4475-be61-f84e2a1686ff\")>,\n",
       " <selenium.webdriver.firefox.webelement.FirefoxWebElement (session=\"8e005c7c-b799-4b11-976a-e246c7ea06b2\", element=\"c9ea3edd-c680-4011-b321-7c373a638653\")>,\n",
       " <selenium.webdriver.firefox.webelement.FirefoxWebElement (session=\"8e005c7c-b799-4b11-976a-e246c7ea06b2\", element=\"fd6b2079-7f9b-4c0c-8b1d-4910cf30b376\")>,\n",
       " <selenium.webdriver.firefox.webelement.FirefoxWebElement (session=\"8e005c7c-b799-4b11-976a-e246c7ea06b2\", element=\"fec0c337-3530-4017-b893-221792cec218\")>,\n",
       " <selenium.webdriver.firefox.webelement.FirefoxWebElement (session=\"8e005c7c-b799-4b11-976a-e246c7ea06b2\", element=\"383955ad-90e3-44b1-b283-64079a489501\")>,\n",
       " <selenium.webdriver.firefox.webelement.FirefoxWebElement (session=\"8e005c7c-b799-4b11-976a-e246c7ea06b2\", element=\"2e104504-0687-4730-a979-a9ce8f7f555a\")>,\n",
       " <selenium.webdriver.firefox.webelement.FirefoxWebElement (session=\"8e005c7c-b799-4b11-976a-e246c7ea06b2\", element=\"6cf10078-3fbe-4e23-b689-e0248d3a775e\")>,\n",
       " <selenium.webdriver.firefox.webelement.FirefoxWebElement (session=\"8e005c7c-b799-4b11-976a-e246c7ea06b2\", element=\"0624f5dd-e25b-4d5b-bce9-f13023a4f22a\")>,\n",
       " <selenium.webdriver.firefox.webelement.FirefoxWebElement (session=\"8e005c7c-b799-4b11-976a-e246c7ea06b2\", element=\"5bfb2c5f-b367-4f29-a476-dc33ee89cabb\")>,\n",
       " <selenium.webdriver.firefox.webelement.FirefoxWebElement (session=\"8e005c7c-b799-4b11-976a-e246c7ea06b2\", element=\"9ba9d28e-03df-40f3-b840-979c1e440b8d\")>,\n",
       " <selenium.webdriver.firefox.webelement.FirefoxWebElement (session=\"8e005c7c-b799-4b11-976a-e246c7ea06b2\", element=\"226b2341-1b89-40bb-9471-1a159c32ea4a\")>,\n",
       " <selenium.webdriver.firefox.webelement.FirefoxWebElement (session=\"8e005c7c-b799-4b11-976a-e246c7ea06b2\", element=\"144527cb-db33-4eb6-a9ee-b53b9e130043\")>,\n",
       " <selenium.webdriver.firefox.webelement.FirefoxWebElement (session=\"8e005c7c-b799-4b11-976a-e246c7ea06b2\", element=\"7bb8a74c-2509-444a-83a8-34b564fb556d\")>,\n",
       " <selenium.webdriver.firefox.webelement.FirefoxWebElement (session=\"8e005c7c-b799-4b11-976a-e246c7ea06b2\", element=\"c364f2d2-5127-4fc8-a9fb-e149390485b6\")>,\n",
       " <selenium.webdriver.firefox.webelement.FirefoxWebElement (session=\"8e005c7c-b799-4b11-976a-e246c7ea06b2\", element=\"c7f19fb7-2ed6-4952-b7aa-402a076ecb70\")>,\n",
       " <selenium.webdriver.firefox.webelement.FirefoxWebElement (session=\"8e005c7c-b799-4b11-976a-e246c7ea06b2\", element=\"48f82a38-3691-4693-9ef3-9accb9ab4b2f\")>,\n",
       " <selenium.webdriver.firefox.webelement.FirefoxWebElement (session=\"8e005c7c-b799-4b11-976a-e246c7ea06b2\", element=\"84f68b3e-90d3-4c43-a3f4-39607389cce1\")>,\n",
       " <selenium.webdriver.firefox.webelement.FirefoxWebElement (session=\"8e005c7c-b799-4b11-976a-e246c7ea06b2\", element=\"bf412338-8530-495c-8982-670467653ac0\")>,\n",
       " <selenium.webdriver.firefox.webelement.FirefoxWebElement (session=\"8e005c7c-b799-4b11-976a-e246c7ea06b2\", element=\"3aba4fef-9f58-4c83-b0b8-9f23353ae9bc\")>,\n",
       " <selenium.webdriver.firefox.webelement.FirefoxWebElement (session=\"8e005c7c-b799-4b11-976a-e246c7ea06b2\", element=\"ec57796e-dad9-4784-a4c0-328f971a058b\")>]"
      ]
     },
     "execution_count": 24,
     "metadata": {},
     "output_type": "execute_result"
    }
   ],
   "source": [
    "election_options"
   ]
  },
  {
   "cell_type": "code",
   "execution_count": 37,
   "metadata": {},
   "outputs": [
    {
     "ename": "StaleElementReferenceException",
     "evalue": "Message: The element reference of [object String] \"41b03737-a5e5-4d64-8b60-d0cebfd3cb11\" is stale; either the element is no longer attached to the DOM, it is not in the current frame context, or the document has been refreshed\n",
     "output_type": "error",
     "traceback": [
      "\u001b[0;31m---------------------------------------------------------------------------\u001b[0m",
      "\u001b[0;31mStaleElementReferenceException\u001b[0m            Traceback (most recent call last)",
      "\u001b[0;32m<ipython-input-37-627cea0ad9c7>\u001b[0m in \u001b[0;36m<module>\u001b[0;34m\u001b[0m\n\u001b[1;32m      1\u001b[0m \u001b[0;32mfor\u001b[0m \u001b[0melection_option\u001b[0m \u001b[0;32min\u001b[0m \u001b[0melection_options\u001b[0m\u001b[0;34m:\u001b[0m\u001b[0;34m\u001b[0m\u001b[0;34m\u001b[0m\u001b[0m\n\u001b[0;32m----> 2\u001b[0;31m     \u001b[0;32mif\u001b[0m \u001b[0melection_option\u001b[0m\u001b[0;34m.\u001b[0m\u001b[0mtext\u001b[0m\u001b[0;34m==\u001b[0m\u001b[0;34m\"Select\"\u001b[0m\u001b[0;34m:\u001b[0m\u001b[0;34m\u001b[0m\u001b[0;34m\u001b[0m\u001b[0m\n\u001b[0m\u001b[1;32m      3\u001b[0m         \u001b[0;32mcontinue\u001b[0m\u001b[0;34m\u001b[0m\u001b[0;34m\u001b[0m\u001b[0m\n\u001b[1;32m      4\u001b[0m     \u001b[0;32mbreak\u001b[0m\u001b[0;34m\u001b[0m\u001b[0;34m\u001b[0m\u001b[0m\n",
      "\u001b[0;32m/projects/MI_election_data/lib/python3.7/site-packages/selenium/webdriver/remote/webelement.py\u001b[0m in \u001b[0;36mtext\u001b[0;34m(self)\u001b[0m\n\u001b[1;32m     74\u001b[0m     \u001b[0;32mdef\u001b[0m \u001b[0mtext\u001b[0m\u001b[0;34m(\u001b[0m\u001b[0mself\u001b[0m\u001b[0;34m)\u001b[0m\u001b[0;34m:\u001b[0m\u001b[0;34m\u001b[0m\u001b[0;34m\u001b[0m\u001b[0m\n\u001b[1;32m     75\u001b[0m         \u001b[0;34m\"\"\"The text of the element.\"\"\"\u001b[0m\u001b[0;34m\u001b[0m\u001b[0;34m\u001b[0m\u001b[0m\n\u001b[0;32m---> 76\u001b[0;31m         \u001b[0;32mreturn\u001b[0m \u001b[0mself\u001b[0m\u001b[0;34m.\u001b[0m\u001b[0m_execute\u001b[0m\u001b[0;34m(\u001b[0m\u001b[0mCommand\u001b[0m\u001b[0;34m.\u001b[0m\u001b[0mGET_ELEMENT_TEXT\u001b[0m\u001b[0;34m)\u001b[0m\u001b[0;34m[\u001b[0m\u001b[0;34m'value'\u001b[0m\u001b[0;34m]\u001b[0m\u001b[0;34m\u001b[0m\u001b[0;34m\u001b[0m\u001b[0m\n\u001b[0m\u001b[1;32m     77\u001b[0m \u001b[0;34m\u001b[0m\u001b[0m\n\u001b[1;32m     78\u001b[0m     \u001b[0;32mdef\u001b[0m \u001b[0mclick\u001b[0m\u001b[0;34m(\u001b[0m\u001b[0mself\u001b[0m\u001b[0;34m)\u001b[0m\u001b[0;34m:\u001b[0m\u001b[0;34m\u001b[0m\u001b[0;34m\u001b[0m\u001b[0m\n",
      "\u001b[0;32m/projects/MI_election_data/lib/python3.7/site-packages/selenium/webdriver/remote/webelement.py\u001b[0m in \u001b[0;36m_execute\u001b[0;34m(self, command, params)\u001b[0m\n\u001b[1;32m    631\u001b[0m             \u001b[0mparams\u001b[0m \u001b[0;34m=\u001b[0m \u001b[0;34m{\u001b[0m\u001b[0;34m}\u001b[0m\u001b[0;34m\u001b[0m\u001b[0;34m\u001b[0m\u001b[0m\n\u001b[1;32m    632\u001b[0m         \u001b[0mparams\u001b[0m\u001b[0;34m[\u001b[0m\u001b[0;34m'id'\u001b[0m\u001b[0;34m]\u001b[0m \u001b[0;34m=\u001b[0m \u001b[0mself\u001b[0m\u001b[0;34m.\u001b[0m\u001b[0m_id\u001b[0m\u001b[0;34m\u001b[0m\u001b[0;34m\u001b[0m\u001b[0m\n\u001b[0;32m--> 633\u001b[0;31m         \u001b[0;32mreturn\u001b[0m \u001b[0mself\u001b[0m\u001b[0;34m.\u001b[0m\u001b[0m_parent\u001b[0m\u001b[0;34m.\u001b[0m\u001b[0mexecute\u001b[0m\u001b[0;34m(\u001b[0m\u001b[0mcommand\u001b[0m\u001b[0;34m,\u001b[0m \u001b[0mparams\u001b[0m\u001b[0;34m)\u001b[0m\u001b[0;34m\u001b[0m\u001b[0;34m\u001b[0m\u001b[0m\n\u001b[0m\u001b[1;32m    634\u001b[0m \u001b[0;34m\u001b[0m\u001b[0m\n\u001b[1;32m    635\u001b[0m     \u001b[0;32mdef\u001b[0m \u001b[0mfind_element\u001b[0m\u001b[0;34m(\u001b[0m\u001b[0mself\u001b[0m\u001b[0;34m,\u001b[0m \u001b[0mby\u001b[0m\u001b[0;34m=\u001b[0m\u001b[0mBy\u001b[0m\u001b[0;34m.\u001b[0m\u001b[0mID\u001b[0m\u001b[0;34m,\u001b[0m \u001b[0mvalue\u001b[0m\u001b[0;34m=\u001b[0m\u001b[0;32mNone\u001b[0m\u001b[0;34m)\u001b[0m\u001b[0;34m:\u001b[0m\u001b[0;34m\u001b[0m\u001b[0;34m\u001b[0m\u001b[0m\n",
      "\u001b[0;32m/projects/MI_election_data/lib/python3.7/site-packages/selenium/webdriver/remote/webdriver.py\u001b[0m in \u001b[0;36mexecute\u001b[0;34m(self, driver_command, params)\u001b[0m\n\u001b[1;32m    319\u001b[0m         \u001b[0mresponse\u001b[0m \u001b[0;34m=\u001b[0m \u001b[0mself\u001b[0m\u001b[0;34m.\u001b[0m\u001b[0mcommand_executor\u001b[0m\u001b[0;34m.\u001b[0m\u001b[0mexecute\u001b[0m\u001b[0;34m(\u001b[0m\u001b[0mdriver_command\u001b[0m\u001b[0;34m,\u001b[0m \u001b[0mparams\u001b[0m\u001b[0;34m)\u001b[0m\u001b[0;34m\u001b[0m\u001b[0;34m\u001b[0m\u001b[0m\n\u001b[1;32m    320\u001b[0m         \u001b[0;32mif\u001b[0m \u001b[0mresponse\u001b[0m\u001b[0;34m:\u001b[0m\u001b[0;34m\u001b[0m\u001b[0;34m\u001b[0m\u001b[0m\n\u001b[0;32m--> 321\u001b[0;31m             \u001b[0mself\u001b[0m\u001b[0;34m.\u001b[0m\u001b[0merror_handler\u001b[0m\u001b[0;34m.\u001b[0m\u001b[0mcheck_response\u001b[0m\u001b[0;34m(\u001b[0m\u001b[0mresponse\u001b[0m\u001b[0;34m)\u001b[0m\u001b[0;34m\u001b[0m\u001b[0;34m\u001b[0m\u001b[0m\n\u001b[0m\u001b[1;32m    322\u001b[0m             response['value'] = self._unwrap_value(\n\u001b[1;32m    323\u001b[0m                 response.get('value', None))\n",
      "\u001b[0;32m/projects/MI_election_data/lib/python3.7/site-packages/selenium/webdriver/remote/errorhandler.py\u001b[0m in \u001b[0;36mcheck_response\u001b[0;34m(self, response)\u001b[0m\n\u001b[1;32m    240\u001b[0m                 \u001b[0malert_text\u001b[0m \u001b[0;34m=\u001b[0m \u001b[0mvalue\u001b[0m\u001b[0;34m[\u001b[0m\u001b[0;34m'alert'\u001b[0m\u001b[0;34m]\u001b[0m\u001b[0;34m.\u001b[0m\u001b[0mget\u001b[0m\u001b[0;34m(\u001b[0m\u001b[0;34m'text'\u001b[0m\u001b[0;34m)\u001b[0m\u001b[0;34m\u001b[0m\u001b[0;34m\u001b[0m\u001b[0m\n\u001b[1;32m    241\u001b[0m             \u001b[0;32mraise\u001b[0m \u001b[0mexception_class\u001b[0m\u001b[0;34m(\u001b[0m\u001b[0mmessage\u001b[0m\u001b[0;34m,\u001b[0m \u001b[0mscreen\u001b[0m\u001b[0;34m,\u001b[0m \u001b[0mstacktrace\u001b[0m\u001b[0;34m,\u001b[0m \u001b[0malert_text\u001b[0m\u001b[0;34m)\u001b[0m\u001b[0;34m\u001b[0m\u001b[0;34m\u001b[0m\u001b[0m\n\u001b[0;32m--> 242\u001b[0;31m         \u001b[0;32mraise\u001b[0m \u001b[0mexception_class\u001b[0m\u001b[0;34m(\u001b[0m\u001b[0mmessage\u001b[0m\u001b[0;34m,\u001b[0m \u001b[0mscreen\u001b[0m\u001b[0;34m,\u001b[0m \u001b[0mstacktrace\u001b[0m\u001b[0;34m)\u001b[0m\u001b[0;34m\u001b[0m\u001b[0;34m\u001b[0m\u001b[0m\n\u001b[0m\u001b[1;32m    243\u001b[0m \u001b[0;34m\u001b[0m\u001b[0m\n\u001b[1;32m    244\u001b[0m     \u001b[0;32mdef\u001b[0m \u001b[0m_value_or_default\u001b[0m\u001b[0;34m(\u001b[0m\u001b[0mself\u001b[0m\u001b[0;34m,\u001b[0m \u001b[0mobj\u001b[0m\u001b[0;34m,\u001b[0m \u001b[0mkey\u001b[0m\u001b[0;34m,\u001b[0m \u001b[0mdefault\u001b[0m\u001b[0;34m)\u001b[0m\u001b[0;34m:\u001b[0m\u001b[0;34m\u001b[0m\u001b[0;34m\u001b[0m\u001b[0m\n",
      "\u001b[0;31mStaleElementReferenceException\u001b[0m: Message: The element reference of [object String] \"41b03737-a5e5-4d64-8b60-d0cebfd3cb11\" is stale; either the element is no longer attached to the DOM, it is not in the current frame context, or the document has been refreshed\n"
     ]
    }
   ],
   "source": [
    "for election_option in election_options:\n",
    "    if election_option.text==\"Select\":\n",
    "        continue\n",
    "    break"
   ]
  },
  {
   "cell_type": "code",
   "execution_count": 30,
   "metadata": {},
   "outputs": [
    {
     "data": {
      "text/plain": [
       "'AUG0619'"
      ]
     },
     "execution_count": 30,
     "metadata": {},
     "output_type": "execute_result"
    }
   ],
   "source": [
    "election_option.get_property(\"value\")"
   ]
  },
  {
   "cell_type": "code",
   "execution_count": 29,
   "metadata": {},
   "outputs": [
    {
     "data": {
      "text/plain": [
       "'August 6th, 2019'"
      ]
     },
     "execution_count": 29,
     "metadata": {},
     "output_type": "execute_result"
    }
   ],
   "source": [
    "election_option.text"
   ]
  },
  {
   "cell_type": "code",
   "execution_count": 32,
   "metadata": {},
   "outputs": [
    {
     "data": {
      "text/plain": [
       "'https://elections.miottawa.org/ElectionResults/AUG0619'"
      ]
     },
     "execution_count": 32,
     "metadata": {},
     "output_type": "execute_result"
    }
   ],
   "source": [
    "\"https://elections.miottawa.org//ElectionResults/Election/Summary/\"+election_option.get_property(\"value\")"
   ]
  },
  {
   "cell_type": "code",
   "execution_count": 36,
   "metadata": {},
   "outputs": [
    {
     "ename": "StaleElementReferenceException",
     "evalue": "Message: The element reference of [object String] \"bb3f8897-abdb-40bc-b6b6-f85eabd13a32\" is stale; either the element is no longer attached to the DOM, it is not in the current frame context, or the document has been refreshed\n",
     "output_type": "error",
     "traceback": [
      "\u001b[0;31m---------------------------------------------------------------------------\u001b[0m",
      "\u001b[0;31mStaleElementReferenceException\u001b[0m            Traceback (most recent call last)",
      "\u001b[0;32m/projects/MI_election_data/lib/python3.7/site-packages/selenium/webdriver/remote/webelement.py\u001b[0m in \u001b[0;36mget_property\u001b[0;34m(self, name)\u001b[0m\n\u001b[1;32m    108\u001b[0m         \u001b[0;32mtry\u001b[0m\u001b[0;34m:\u001b[0m\u001b[0;34m\u001b[0m\u001b[0;34m\u001b[0m\u001b[0m\n\u001b[0;32m--> 109\u001b[0;31m             \u001b[0;32mreturn\u001b[0m \u001b[0mself\u001b[0m\u001b[0;34m.\u001b[0m\u001b[0m_execute\u001b[0m\u001b[0;34m(\u001b[0m\u001b[0mCommand\u001b[0m\u001b[0;34m.\u001b[0m\u001b[0mGET_ELEMENT_PROPERTY\u001b[0m\u001b[0;34m,\u001b[0m \u001b[0;34m{\u001b[0m\u001b[0;34m\"name\"\u001b[0m\u001b[0;34m:\u001b[0m \u001b[0mname\u001b[0m\u001b[0;34m}\u001b[0m\u001b[0;34m)\u001b[0m\u001b[0;34m[\u001b[0m\u001b[0;34m\"value\"\u001b[0m\u001b[0;34m]\u001b[0m\u001b[0;34m\u001b[0m\u001b[0;34m\u001b[0m\u001b[0m\n\u001b[0m\u001b[1;32m    110\u001b[0m         \u001b[0;32mexcept\u001b[0m \u001b[0mWebDriverException\u001b[0m\u001b[0;34m:\u001b[0m\u001b[0;34m\u001b[0m\u001b[0;34m\u001b[0m\u001b[0m\n",
      "\u001b[0;32m/projects/MI_election_data/lib/python3.7/site-packages/selenium/webdriver/remote/webelement.py\u001b[0m in \u001b[0;36m_execute\u001b[0;34m(self, command, params)\u001b[0m\n\u001b[1;32m    632\u001b[0m         \u001b[0mparams\u001b[0m\u001b[0;34m[\u001b[0m\u001b[0;34m'id'\u001b[0m\u001b[0;34m]\u001b[0m \u001b[0;34m=\u001b[0m \u001b[0mself\u001b[0m\u001b[0;34m.\u001b[0m\u001b[0m_id\u001b[0m\u001b[0;34m\u001b[0m\u001b[0;34m\u001b[0m\u001b[0m\n\u001b[0;32m--> 633\u001b[0;31m         \u001b[0;32mreturn\u001b[0m \u001b[0mself\u001b[0m\u001b[0;34m.\u001b[0m\u001b[0m_parent\u001b[0m\u001b[0;34m.\u001b[0m\u001b[0mexecute\u001b[0m\u001b[0;34m(\u001b[0m\u001b[0mcommand\u001b[0m\u001b[0;34m,\u001b[0m \u001b[0mparams\u001b[0m\u001b[0;34m)\u001b[0m\u001b[0;34m\u001b[0m\u001b[0;34m\u001b[0m\u001b[0m\n\u001b[0m\u001b[1;32m    634\u001b[0m \u001b[0;34m\u001b[0m\u001b[0m\n",
      "\u001b[0;32m/projects/MI_election_data/lib/python3.7/site-packages/selenium/webdriver/remote/webdriver.py\u001b[0m in \u001b[0;36mexecute\u001b[0;34m(self, driver_command, params)\u001b[0m\n\u001b[1;32m    320\u001b[0m         \u001b[0;32mif\u001b[0m \u001b[0mresponse\u001b[0m\u001b[0;34m:\u001b[0m\u001b[0;34m\u001b[0m\u001b[0;34m\u001b[0m\u001b[0m\n\u001b[0;32m--> 321\u001b[0;31m             \u001b[0mself\u001b[0m\u001b[0;34m.\u001b[0m\u001b[0merror_handler\u001b[0m\u001b[0;34m.\u001b[0m\u001b[0mcheck_response\u001b[0m\u001b[0;34m(\u001b[0m\u001b[0mresponse\u001b[0m\u001b[0;34m)\u001b[0m\u001b[0;34m\u001b[0m\u001b[0;34m\u001b[0m\u001b[0m\n\u001b[0m\u001b[1;32m    322\u001b[0m             response['value'] = self._unwrap_value(\n",
      "\u001b[0;32m/projects/MI_election_data/lib/python3.7/site-packages/selenium/webdriver/remote/errorhandler.py\u001b[0m in \u001b[0;36mcheck_response\u001b[0;34m(self, response)\u001b[0m\n\u001b[1;32m    241\u001b[0m             \u001b[0;32mraise\u001b[0m \u001b[0mexception_class\u001b[0m\u001b[0;34m(\u001b[0m\u001b[0mmessage\u001b[0m\u001b[0;34m,\u001b[0m \u001b[0mscreen\u001b[0m\u001b[0;34m,\u001b[0m \u001b[0mstacktrace\u001b[0m\u001b[0;34m,\u001b[0m \u001b[0malert_text\u001b[0m\u001b[0;34m)\u001b[0m\u001b[0;34m\u001b[0m\u001b[0;34m\u001b[0m\u001b[0m\n\u001b[0;32m--> 242\u001b[0;31m         \u001b[0;32mraise\u001b[0m \u001b[0mexception_class\u001b[0m\u001b[0;34m(\u001b[0m\u001b[0mmessage\u001b[0m\u001b[0;34m,\u001b[0m \u001b[0mscreen\u001b[0m\u001b[0;34m,\u001b[0m \u001b[0mstacktrace\u001b[0m\u001b[0;34m)\u001b[0m\u001b[0;34m\u001b[0m\u001b[0;34m\u001b[0m\u001b[0m\n\u001b[0m\u001b[1;32m    243\u001b[0m \u001b[0;34m\u001b[0m\u001b[0m\n",
      "\u001b[0;31mStaleElementReferenceException\u001b[0m: Message: The element reference of [object String] \"bb3f8897-abdb-40bc-b6b6-f85eabd13a32\" is stale; either the element is no longer attached to the DOM, it is not in the current frame context, or the document has been refreshed\n",
      "\nDuring handling of the above exception, another exception occurred:\n",
      "\u001b[0;31mStaleElementReferenceException\u001b[0m            Traceback (most recent call last)",
      "\u001b[0;32m<ipython-input-36-d7c3763a4894>\u001b[0m in \u001b[0;36m<module>\u001b[0;34m\u001b[0m\n\u001b[0;32m----> 1\u001b[0;31m \u001b[0mbrowser\u001b[0m\u001b[0;34m.\u001b[0m\u001b[0mget\u001b[0m\u001b[0;34m(\u001b[0m\u001b[0;34m\"https://elections.miottawa.org//ElectionResults/Election/Summary/\"\u001b[0m\u001b[0;34m+\u001b[0m\u001b[0melection_option\u001b[0m\u001b[0;34m.\u001b[0m\u001b[0mget_property\u001b[0m\u001b[0;34m(\u001b[0m\u001b[0;34m\"value\"\u001b[0m\u001b[0;34m)\u001b[0m\u001b[0;34m)\u001b[0m\u001b[0;34m\u001b[0m\u001b[0;34m\u001b[0m\u001b[0m\n\u001b[0m",
      "\u001b[0;32m/projects/MI_election_data/lib/python3.7/site-packages/selenium/webdriver/remote/webelement.py\u001b[0m in \u001b[0;36mget_property\u001b[0;34m(self, name)\u001b[0m\n\u001b[1;32m    110\u001b[0m         \u001b[0;32mexcept\u001b[0m \u001b[0mWebDriverException\u001b[0m\u001b[0;34m:\u001b[0m\u001b[0;34m\u001b[0m\u001b[0;34m\u001b[0m\u001b[0m\n\u001b[1;32m    111\u001b[0m             \u001b[0;31m# if we hit an end point that doesnt understand getElementProperty lets fake it\u001b[0m\u001b[0;34m\u001b[0m\u001b[0;34m\u001b[0m\u001b[0;34m\u001b[0m\u001b[0m\n\u001b[0;32m--> 112\u001b[0;31m             \u001b[0;32mreturn\u001b[0m \u001b[0mself\u001b[0m\u001b[0;34m.\u001b[0m\u001b[0mparent\u001b[0m\u001b[0;34m.\u001b[0m\u001b[0mexecute_script\u001b[0m\u001b[0;34m(\u001b[0m\u001b[0;34m'return arguments[0][arguments[1]]'\u001b[0m\u001b[0;34m,\u001b[0m \u001b[0mself\u001b[0m\u001b[0;34m,\u001b[0m \u001b[0mname\u001b[0m\u001b[0;34m)\u001b[0m\u001b[0;34m\u001b[0m\u001b[0;34m\u001b[0m\u001b[0m\n\u001b[0m\u001b[1;32m    113\u001b[0m \u001b[0;34m\u001b[0m\u001b[0m\n\u001b[1;32m    114\u001b[0m     \u001b[0;32mdef\u001b[0m \u001b[0mget_attribute\u001b[0m\u001b[0;34m(\u001b[0m\u001b[0mself\u001b[0m\u001b[0;34m,\u001b[0m \u001b[0mname\u001b[0m\u001b[0;34m)\u001b[0m\u001b[0;34m:\u001b[0m\u001b[0;34m\u001b[0m\u001b[0;34m\u001b[0m\u001b[0m\n",
      "\u001b[0;32m/projects/MI_election_data/lib/python3.7/site-packages/selenium/webdriver/remote/webdriver.py\u001b[0m in \u001b[0;36mexecute_script\u001b[0;34m(self, script, *args)\u001b[0m\n\u001b[1;32m    634\u001b[0m         return self.execute(command, {\n\u001b[1;32m    635\u001b[0m             \u001b[0;34m'script'\u001b[0m\u001b[0;34m:\u001b[0m \u001b[0mscript\u001b[0m\u001b[0;34m,\u001b[0m\u001b[0;34m\u001b[0m\u001b[0;34m\u001b[0m\u001b[0m\n\u001b[0;32m--> 636\u001b[0;31m             'args': converted_args})['value']\n\u001b[0m\u001b[1;32m    637\u001b[0m \u001b[0;34m\u001b[0m\u001b[0m\n\u001b[1;32m    638\u001b[0m     \u001b[0;32mdef\u001b[0m \u001b[0mexecute_async_script\u001b[0m\u001b[0;34m(\u001b[0m\u001b[0mself\u001b[0m\u001b[0;34m,\u001b[0m \u001b[0mscript\u001b[0m\u001b[0;34m,\u001b[0m \u001b[0;34m*\u001b[0m\u001b[0margs\u001b[0m\u001b[0;34m)\u001b[0m\u001b[0;34m:\u001b[0m\u001b[0;34m\u001b[0m\u001b[0;34m\u001b[0m\u001b[0m\n",
      "\u001b[0;32m/projects/MI_election_data/lib/python3.7/site-packages/selenium/webdriver/remote/webdriver.py\u001b[0m in \u001b[0;36mexecute\u001b[0;34m(self, driver_command, params)\u001b[0m\n\u001b[1;32m    319\u001b[0m         \u001b[0mresponse\u001b[0m \u001b[0;34m=\u001b[0m \u001b[0mself\u001b[0m\u001b[0;34m.\u001b[0m\u001b[0mcommand_executor\u001b[0m\u001b[0;34m.\u001b[0m\u001b[0mexecute\u001b[0m\u001b[0;34m(\u001b[0m\u001b[0mdriver_command\u001b[0m\u001b[0;34m,\u001b[0m \u001b[0mparams\u001b[0m\u001b[0;34m)\u001b[0m\u001b[0;34m\u001b[0m\u001b[0;34m\u001b[0m\u001b[0m\n\u001b[1;32m    320\u001b[0m         \u001b[0;32mif\u001b[0m \u001b[0mresponse\u001b[0m\u001b[0;34m:\u001b[0m\u001b[0;34m\u001b[0m\u001b[0;34m\u001b[0m\u001b[0m\n\u001b[0;32m--> 321\u001b[0;31m             \u001b[0mself\u001b[0m\u001b[0;34m.\u001b[0m\u001b[0merror_handler\u001b[0m\u001b[0;34m.\u001b[0m\u001b[0mcheck_response\u001b[0m\u001b[0;34m(\u001b[0m\u001b[0mresponse\u001b[0m\u001b[0;34m)\u001b[0m\u001b[0;34m\u001b[0m\u001b[0;34m\u001b[0m\u001b[0m\n\u001b[0m\u001b[1;32m    322\u001b[0m             response['value'] = self._unwrap_value(\n\u001b[1;32m    323\u001b[0m                 response.get('value', None))\n",
      "\u001b[0;32m/projects/MI_election_data/lib/python3.7/site-packages/selenium/webdriver/remote/errorhandler.py\u001b[0m in \u001b[0;36mcheck_response\u001b[0;34m(self, response)\u001b[0m\n\u001b[1;32m    240\u001b[0m                 \u001b[0malert_text\u001b[0m \u001b[0;34m=\u001b[0m \u001b[0mvalue\u001b[0m\u001b[0;34m[\u001b[0m\u001b[0;34m'alert'\u001b[0m\u001b[0;34m]\u001b[0m\u001b[0;34m.\u001b[0m\u001b[0mget\u001b[0m\u001b[0;34m(\u001b[0m\u001b[0;34m'text'\u001b[0m\u001b[0;34m)\u001b[0m\u001b[0;34m\u001b[0m\u001b[0;34m\u001b[0m\u001b[0m\n\u001b[1;32m    241\u001b[0m             \u001b[0;32mraise\u001b[0m \u001b[0mexception_class\u001b[0m\u001b[0;34m(\u001b[0m\u001b[0mmessage\u001b[0m\u001b[0;34m,\u001b[0m \u001b[0mscreen\u001b[0m\u001b[0;34m,\u001b[0m \u001b[0mstacktrace\u001b[0m\u001b[0;34m,\u001b[0m \u001b[0malert_text\u001b[0m\u001b[0;34m)\u001b[0m\u001b[0;34m\u001b[0m\u001b[0;34m\u001b[0m\u001b[0m\n\u001b[0;32m--> 242\u001b[0;31m         \u001b[0;32mraise\u001b[0m \u001b[0mexception_class\u001b[0m\u001b[0;34m(\u001b[0m\u001b[0mmessage\u001b[0m\u001b[0;34m,\u001b[0m \u001b[0mscreen\u001b[0m\u001b[0;34m,\u001b[0m \u001b[0mstacktrace\u001b[0m\u001b[0;34m)\u001b[0m\u001b[0;34m\u001b[0m\u001b[0;34m\u001b[0m\u001b[0m\n\u001b[0m\u001b[1;32m    243\u001b[0m \u001b[0;34m\u001b[0m\u001b[0m\n\u001b[1;32m    244\u001b[0m     \u001b[0;32mdef\u001b[0m \u001b[0m_value_or_default\u001b[0m\u001b[0;34m(\u001b[0m\u001b[0mself\u001b[0m\u001b[0;34m,\u001b[0m \u001b[0mobj\u001b[0m\u001b[0;34m,\u001b[0m \u001b[0mkey\u001b[0m\u001b[0;34m,\u001b[0m \u001b[0mdefault\u001b[0m\u001b[0;34m)\u001b[0m\u001b[0;34m:\u001b[0m\u001b[0;34m\u001b[0m\u001b[0;34m\u001b[0m\u001b[0m\n",
      "\u001b[0;31mStaleElementReferenceException\u001b[0m: Message: The element reference of [object String] \"bb3f8897-abdb-40bc-b6b6-f85eabd13a32\" is stale; either the element is no longer attached to the DOM, it is not in the current frame context, or the document has been refreshed\n"
     ]
    }
   ],
   "source": [
    "browser.get(\"https://elections.miottawa.org//ElectionResults/Election/Summary/\"+election_option.get_property(\"value\"))"
   ]
  }
 ],
 "metadata": {
  "kernelspec": {
   "display_name": "Python 3",
   "language": "python",
   "name": "python3"
  },
  "language_info": {
   "codemirror_mode": {
    "name": "ipython",
    "version": 3
   },
   "file_extension": ".py",
   "mimetype": "text/x-python",
   "name": "python",
   "nbconvert_exporter": "python",
   "pygments_lexer": "ipython3",
   "version": "3.7.3"
  }
 },
 "nbformat": 4,
 "nbformat_minor": 2
}
