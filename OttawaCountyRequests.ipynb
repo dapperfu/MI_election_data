{
 "cells": [
  {
   "cell_type": "code",
   "execution_count": 3,
   "metadata": {
    "scrolled": true
   },
   "outputs": [
    {
     "name": "stdout",
     "output_type": "stream",
     "text": [
      "Requirement already satisfied: requests in ./lib/python3.7/site-packages\n",
      "Requirement already satisfied: urllib3!=1.25.0,!=1.25.1,<1.26,>=1.21.1 in ./lib/python3.7/site-packages (from requests)\n",
      "Requirement already satisfied: idna<2.9,>=2.5 in ./lib/python3.7/site-packages (from requests)\n",
      "Requirement already satisfied: chardet<3.1.0,>=3.0.2 in ./lib/python3.7/site-packages (from requests)\n",
      "Requirement already satisfied: certifi>=2017.4.17 in ./lib/python3.7/site-packages (from requests)\n"
     ]
    }
   ],
   "source": [
    "!pip install requests"
   ]
  },
  {
   "cell_type": "code",
   "execution_count": 14,
   "metadata": {},
   "outputs": [],
   "source": [
    "import requests"
   ]
  },
  {
   "cell_type": "code",
   "execution_count": 15,
   "metadata": {},
   "outputs": [],
   "source": [
    "s = requests.Session()\n",
    "s.headers.update({'referer': \"https://elections.miottawa.org/ElectionResults/Election/Summary/NOV0618\"})"
   ]
  },
  {
   "cell_type": "code",
   "execution_count": 16,
   "metadata": {},
   "outputs": [],
   "source": [
    "r = s.get(\"https://elections.miottawa.org/ElectionResults/Election/Export\")"
   ]
  },
  {
   "cell_type": "code",
   "execution_count": 17,
   "metadata": {},
   "outputs": [
    {
     "data": {
      "text/plain": [
       "200"
      ]
     },
     "execution_count": 17,
     "metadata": {},
     "output_type": "execute_result"
    }
   ],
   "source": [
    "r.status_code"
   ]
  },
  {
   "cell_type": "code",
   "execution_count": 19,
   "metadata": {},
   "outputs": [
    {
     "data": {
      "text/plain": [
       "<PreparedRequest [GET]>"
      ]
     },
     "execution_count": 19,
     "metadata": {},
     "output_type": "execute_result"
    }
   ],
   "source": [
    "brow"
   ]
  },
  {
   "cell_type": "code",
   "execution_count": 3,
   "metadata": {},
   "outputs": [],
   "source": [
    "from   selenium import webdriver\n",
    "from   selenium.common.exceptions import TimeoutException\n",
    "  \n",
    "browser = webdriver.Firefox()\n"
   ]
  },
  {
   "cell_type": "code",
   "execution_count": 4,
   "metadata": {},
   "outputs": [],
   "source": [
    "results_base_url = \"https://elections.miottawa.org/ElectionResults/\""
   ]
  },
  {
   "cell_type": "code",
   "execution_count": 5,
   "metadata": {},
   "outputs": [],
   "source": [
    "browser.get(results_base_url)"
   ]
  },
  {
   "cell_type": "code",
   "execution_count": 6,
   "metadata": {},
   "outputs": [
    {
     "data": {
      "text/plain": [
       "<selenium.webdriver.firefox.webelement.FirefoxWebElement (session=\"99e5b4a6-17e9-493a-884b-1713b5837d80\", element=\"1f20e7d3-e26e-4b87-99ab-b5bc357e9619\")>"
      ]
     },
     "execution_count": 6,
     "metadata": {},
     "output_type": "execute_result"
    }
   ],
   "source": [
    "browser.find_element_by_id(\"ddElections\")"
   ]
  },
  {
   "cell_type": "code",
   "execution_count": 7,
   "metadata": {},
   "outputs": [],
   "source": [
    "election_select = browser.find_element_by_id(\"ddElections\")"
   ]
  },
  {
   "cell_type": "code",
   "execution_count": 9,
   "metadata": {},
   "outputs": [],
   "source": [
    "election_select.click(\"https://elections.miottawa.org/ElectionResults/Election/Export\")"
   ]
  },
  {
   "cell_type": "code",
   "execution_count": 10,
   "metadata": {},
   "outputs": [
    {
     "data": {
      "text/plain": [
       "'Select\\nAugust 6th, 2019\\nMay 7th, 2019\\nNovember 6th, 2018\\nAugust 7th, 2018\\nMay 8th, 2018\\nNovember 7th, 2017\\nAugust 8th, 2017\\nMay 2nd, 2017\\nNovember 8th, 2016\\nAugust 2nd, 2016\\nMay 3rd, 2016\\nMarch 8th, 2016\\nNovember 3rd, 2015\\nAugust 4th, 2015\\nMay 5th, 2015\\nFebruary 24th, 2015\\nNovember 4th, 2014\\nAugust 5th, 2014\\nMay 6th, 2014\\nNovember 5th, 2013\\nMay 7th, 2013\\nNovember 6th, 2012\\nAugust 7th, 2012\\nMay 8th, 2012\\nFebruary 28th, 2012\\nNovember, 8th 2011'"
      ]
     },
     "execution_count": 10,
     "metadata": {},
     "output_type": "execute_result"
    }
   ],
   "source": [
    "election_select.text"
   ]
  },
  {
   "cell_type": "code",
   "execution_count": 12,
   "metadata": {},
   "outputs": [
    {
     "data": {
      "text/plain": [
       "['Select',\n",
       " 'August 6th, 2019',\n",
       " 'May 7th, 2019',\n",
       " 'November 6th, 2018',\n",
       " 'August 7th, 2018',\n",
       " 'May 8th, 2018',\n",
       " 'November 7th, 2017',\n",
       " 'August 8th, 2017',\n",
       " 'May 2nd, 2017',\n",
       " 'November 8th, 2016',\n",
       " 'August 2nd, 2016',\n",
       " 'May 3rd, 2016',\n",
       " 'March 8th, 2016',\n",
       " 'November 3rd, 2015',\n",
       " 'August 4th, 2015',\n",
       " 'May 5th, 2015',\n",
       " 'February 24th, 2015',\n",
       " 'November 4th, 2014',\n",
       " 'August 5th, 2014',\n",
       " 'May 6th, 2014',\n",
       " 'November 5th, 2013',\n",
       " 'May 7th, 2013',\n",
       " 'November 6th, 2012',\n",
       " 'August 7th, 2012',\n",
       " 'May 8th, 2012',\n",
       " 'February 28th, 2012',\n",
       " 'November, 8th 2011']"
      ]
     },
     "execution_count": 12,
     "metadata": {},
     "output_type": "execute_result"
    }
   ],
   "source": [
    "election_select.text.split(\"\\n\")"
   ]
  },
  {
   "cell_type": "code",
   "execution_count": 13,
   "metadata": {},
   "outputs": [
    {
     "data": {
      "text/plain": [
       "''"
      ]
     },
     "execution_count": 13,
     "metadata": {},
     "output_type": "execute_result"
    }
   ],
   "source": [
    "election_select.get_attribute(\"value\")"
   ]
  },
  {
   "cell_type": "code",
   "execution_count": 14,
   "metadata": {},
   "outputs": [],
   "source": [
    "election_select.send_keys('November, 8th 2011')"
   ]
  },
  {
   "cell_type": "code",
   "execution_count": 15,
   "metadata": {},
   "outputs": [
    {
     "data": {
      "text/plain": [
       "<selenium.webdriver.firefox.webelement.FirefoxWebElement (session=\"99e5b4a6-17e9-493a-884b-1713b5837d80\", element=\"03a09cab-df15-4e4a-a856-b8d4166889b8\")>"
      ]
     },
     "execution_count": 15,
     "metadata": {},
     "output_type": "execute_result"
    }
   ],
   "source": [
    "browser.find_element_by_link_text(\"Export\")"
   ]
  },
  {
   "cell_type": "code",
   "execution_count": 16,
   "metadata": {},
   "outputs": [],
   "source": [
    "export_link = browser.find_element_by_link_text(\"Export\")"
   ]
  },
  {
   "cell_type": "code",
   "execution_count": 17,
   "metadata": {},
   "outputs": [],
   "source": [
    "export_link.click()"
   ]
  },
  {
   "cell_type": "code",
   "execution_count": null,
   "metadata": {},
   "outputs": [],
   "source": [
    "browser.sa"
   ]
  }
 ],
 "metadata": {
  "kernelspec": {
   "display_name": "Python 3",
   "language": "python",
   "name": "python3"
  },
  "language_info": {
   "codemirror_mode": {
    "name": "ipython",
    "version": 3
   },
   "file_extension": ".py",
   "mimetype": "text/x-python",
   "name": "python",
   "nbconvert_exporter": "python",
   "pygments_lexer": "ipython3",
   "version": "3.7.3"
  }
 },
 "nbformat": 4,
 "nbformat_minor": 2
}
