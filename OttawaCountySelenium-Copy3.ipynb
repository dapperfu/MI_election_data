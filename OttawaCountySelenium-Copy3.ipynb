{
 "cells": [
  {
   "cell_type": "code",
   "execution_count": 1,
   "metadata": {},
   "outputs": [],
   "source": [
    "from   selenium import webdriver\n",
    "from   selenium.common.exceptions import TimeoutException\n",
    "import time"
   ]
  },
  {
   "cell_type": "code",
   "execution_count": 2,
   "metadata": {},
   "outputs": [],
   "source": [
    "results_base_url = \"https://elections.miottawa.org/ElectionResults/\""
   ]
  },
  {
   "cell_type": "code",
   "execution_count": 3,
   "metadata": {},
   "outputs": [],
   "source": [
    "browser =  webdriver.Firefox()\n",
    "browser.get(results_base_url)\n",
    "election_select = browser.find_element_by_id(\"ddElections\")\n",
    "time.sleep(2)\n",
    "elections = election_select.text.split(\"\\n\")[1:]\n",
    "elections = [str(election) for election in elections]\n",
    "for election_date in elections:\n",
    "    break\n",
    "    "
   ]
  },
  {
   "cell_type": "code",
   "execution_count": 5,
   "metadata": {},
   "outputs": [
    {
     "data": {
      "text/plain": [
       "['August 6th, 2019',\n",
       " 'May 7th, 2019',\n",
       " 'November 6th, 2018',\n",
       " 'August 7th, 2018',\n",
       " 'May 8th, 2018',\n",
       " 'November 7th, 2017',\n",
       " 'August 8th, 2017',\n",
       " 'May 2nd, 2017',\n",
       " 'November 8th, 2016',\n",
       " 'August 2nd, 2016',\n",
       " 'May 3rd, 2016',\n",
       " 'March 8th, 2016',\n",
       " 'November 3rd, 2015',\n",
       " 'August 4th, 2015',\n",
       " 'May 5th, 2015',\n",
       " 'February 24th, 2015',\n",
       " 'November 4th, 2014',\n",
       " 'August 5th, 2014',\n",
       " 'May 6th, 2014',\n",
       " 'November 5th, 2013',\n",
       " 'May 7th, 2013',\n",
       " 'November 6th, 2012',\n",
       " 'August 7th, 2012',\n",
       " 'May 8th, 2012',\n",
       " 'February 28th, 2012',\n",
       " 'November, 8th 2011']"
      ]
     },
     "execution_count": 5,
     "metadata": {},
     "output_type": "execute_result"
    }
   ],
   "source": [
    "elections"
   ]
  },
  {
   "cell_type": "code",
   "execution_count": 17,
   "metadata": {},
   "outputs": [],
   "source": [
    "results_base_url = \"https://elections.miottawa.org/ElectionResults/\"\n",
    "browser.get(results_base_url)\n",
    "election_select = browser.find_element_by_id(\"ddElections\")"
   ]
  },
  {
   "cell_type": "code",
   "execution_count": 18,
   "metadata": {},
   "outputs": [],
   "source": [
    "election_select.click()"
   ]
  },
  {
   "cell_type": "code",
   "execution_count": null,
   "metadata": {},
   "outputs": [],
   "source": [
    "election_select.send_keys()"
   ]
  },
  {
   "cell_type": "code",
   "execution_count": 19,
   "metadata": {},
   "outputs": [],
   "source": [
    "from selenium.webdriver.common.keys import Keys"
   ]
  },
  {
   "cell_type": "code",
   "execution_count": 20,
   "metadata": {},
   "outputs": [],
   "source": [
    "results_base_url = \"https://elections.miottawa.org/ElectionResults/\"\n",
    "browser.get(results_base_url)\n",
    "election_select = browser.find_element_by_id(\"ddElections\")\n",
    "time.sleep(1)\n",
    "election_select.click()\n",
    "election_select.send_keys(Keys.DOWN)\n",
    "election_select.send_keys(Keys.ENTER)"
   ]
  },
  {
   "cell_type": "code",
   "execution_count": 21,
   "metadata": {},
   "outputs": [],
   "source": [
    "time.sleep(1)\n",
    "export_link = browser.find_element_by_link_text(\"Export\")\n",
    "export_link.click()"
   ]
  },
  {
   "cell_type": "code",
   "execution_count": null,
   "metadata": {},
   "outputs": [],
   "source": []
  }
 ],
 "metadata": {
  "kernelspec": {
   "display_name": "Python 3",
   "language": "python",
   "name": "python3"
  },
  "language_info": {
   "codemirror_mode": {
    "name": "ipython",
    "version": 3
   },
   "file_extension": ".py",
   "mimetype": "text/x-python",
   "name": "python",
   "nbconvert_exporter": "python",
   "pygments_lexer": "ipython3",
   "version": "3.7.3"
  }
 },
 "nbformat": 4,
 "nbformat_minor": 2
}
