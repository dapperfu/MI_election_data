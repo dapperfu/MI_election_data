{
 "cells": [
  {
   "cell_type": "code",
   "execution_count": 4,
   "metadata": {},
   "outputs": [],
   "source": [
    "from   selenium import webdriver\n",
    "from   selenium.common.exceptions import TimeoutException\n",
    "import time\n",
    "import requests\n",
    "import os"
   ]
  },
  {
   "cell_type": "code",
   "execution_count": 5,
   "metadata": {},
   "outputs": [],
   "source": [
    "results_base_url = \"https://elections.miottawa.org/ElectionResults/\"\n",
    "summary_base_url = \"https://elections.miottawa.org//ElectionResults/Election/Summary/\"\n",
    "export_base_url = \"https://elections.miottawa.org/ElectionResults/Election/Export/\""
   ]
  },
  {
   "cell_type": "code",
   "execution_count": 6,
   "metadata": {},
   "outputs": [],
   "source": [
    "with webdriver.Firefox() as browser:\n",
    "    browser.get(results_base_url)\n",
    "    election_select = browser.find_element_by_id(\"ddElections\")\n",
    "    election_options = election_select.find_elements_by_tag_name(\"option\")\n",
    "\n",
    "    election_shorts = list()\n",
    "    for election_option in election_options:\n",
    "        if election_option.text==\"Select\":\n",
    "            continue\n",
    "        election_shorts.append(election_option.get_property(\"value\"))"
   ]
  },
  {
   "cell_type": "code",
   "execution_count": 9,
   "metadata": {},
   "outputs": [],
   "source": [
    "for election_short in election_shorts:\n",
    "    r = requests.get(export_base_url+election_short)\n",
    "    out_file = os.path.abspath(os.path.join(\"OttawaCounty\", election_short+\".xlsx\"))\n",
    "    with open(out_file, \"wb\") as fid:\n",
    "        fid.write(r.content)"
   ]
  },
  {
   "cell_type": "code",
   "execution_count": null,
   "metadata": {},
   "outputs": [],
   "source": []
  }
 ],
 "metadata": {
  "kernelspec": {
   "display_name": "Python 3",
   "language": "python",
   "name": "python3"
  },
  "language_info": {
   "codemirror_mode": {
    "name": "ipython",
    "version": 3
   },
   "file_extension": ".py",
   "mimetype": "text/x-python",
   "name": "python",
   "nbconvert_exporter": "python",
   "pygments_lexer": "ipython3",
   "version": "3.7.3"
  }
 },
 "nbformat": 4,
 "nbformat_minor": 2
}
