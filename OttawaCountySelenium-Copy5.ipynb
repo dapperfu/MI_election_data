{
 "cells": [
  {
   "cell_type": "code",
   "execution_count": 44,
   "metadata": {},
   "outputs": [],
   "source": [
    "from   selenium import webdriver\n",
    "from   selenium.common.exceptions import TimeoutException\n",
    "import time"
   ]
  },
  {
   "cell_type": "code",
   "execution_count": 45,
   "metadata": {},
   "outputs": [],
   "source": [
    "results_base_url = \"https://elections.miottawa.org/ElectionResults/\"\n",
    "summary_base_url = \"https://elections.miottawa.org//ElectionResults/Election/Summary/\"\n",
    "export_base_url = \"https://elections.miottawa.org/ElectionResults/Election/Export/\""
   ]
  },
  {
   "cell_type": "code",
   "execution_count": 46,
   "metadata": {},
   "outputs": [],
   "source": [
    "browser = webdriver.Firefox()"
   ]
  },
  {
   "cell_type": "code",
   "execution_count": 47,
   "metadata": {},
   "outputs": [],
   "source": [
    "browser.get(results_base_url)\n",
    "election_select = browser.find_element_by_id(\"ddElections\")\n",
    "election_options = election_select.find_elements_by_tag_name(\"option\")"
   ]
  },
  {
   "cell_type": "code",
   "execution_count": 48,
   "metadata": {},
   "outputs": [
    {
     "data": {
      "text/plain": [
       "['AUG0619',\n",
       " 'MAY0719',\n",
       " 'NOV0618',\n",
       " 'AUG0718',\n",
       " 'MAY0818',\n",
       " 'NOV0717',\n",
       " 'AUG0817',\n",
       " 'MAY0217',\n",
       " 'NOV0816',\n",
       " 'AUG0216',\n",
       " 'MAY0316',\n",
       " 'MAR0816',\n",
       " 'NOV0315',\n",
       " 'AUG0415',\n",
       " 'MAY0515',\n",
       " 'FEB2415',\n",
       " 'NOV0414',\n",
       " 'AUG0514',\n",
       " 'MAY0614',\n",
       " 'NOV0513',\n",
       " 'MAY0713',\n",
       " 'NOV0612',\n",
       " 'AUG0712',\n",
       " 'MAY0812',\n",
       " 'FEB2812',\n",
       " 'NOV0811']"
      ]
     },
     "execution_count": 48,
     "metadata": {},
     "output_type": "execute_result"
    }
   ],
   "source": [
    "election_shorts = list()\n",
    "for election_option in election_options:\n",
    "    if election_option.text==\"Select\":\n",
    "        continue\n",
    "    election_shorts.append(election_option.get_property(\"value\"))\n",
    "election_shorts"
   ]
  },
  {
   "cell_type": "code",
   "execution_count": 50,
   "metadata": {},
   "outputs": [],
   "source": [
    "import requests"
   ]
  },
  {
   "cell_type": "code",
   "execution_count": 54,
   "metadata": {},
   "outputs": [],
   "source": [
    "import os"
   ]
  },
  {
   "cell_type": "code",
   "execution_count": 53,
   "metadata": {},
   "outputs": [],
   "source": [
    "for election_short in election_shorts:\n",
    "    r = requests.get(export_base_url+election_short)\n",
    "    with open(election_short+\".xlsx\", \"wb\") as fid:\n",
    "        fid.write(r.content)"
   ]
  },
  {
   "cell_type": "code",
   "execution_count": null,
   "metadata": {},
   "outputs": [],
   "source": []
  }
 ],
 "metadata": {
  "kernelspec": {
   "display_name": "Python 3",
   "language": "python",
   "name": "python3"
  },
  "language_info": {
   "codemirror_mode": {
    "name": "ipython",
    "version": 3
   },
   "file_extension": ".py",
   "mimetype": "text/x-python",
   "name": "python",
   "nbconvert_exporter": "python",
   "pygments_lexer": "ipython3",
   "version": "3.7.3"
  }
 },
 "nbformat": 4,
 "nbformat_minor": 2
}
