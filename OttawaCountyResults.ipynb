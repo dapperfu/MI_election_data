{
 "cells": [
  {
   "cell_type": "code",
   "execution_count": 1,
   "metadata": {},
   "outputs": [
    {
     "name": "stdout",
     "output_type": "stream",
     "text": [
      "Collecting selenium\n",
      "\u001b[33m  Cache entry deserialization failed, entry ignored\u001b[0m\n",
      "\u001b[33m  Cache entry deserialization failed, entry ignored\u001b[0m\n",
      "  Downloading https://files.pythonhosted.org/packages/80/d6/4294f0b4bce4de0abf13e17190289f9d0613b0a44e5dd6a7f5ca98459853/selenium-3.141.0-py2.py3-none-any.whl (904kB)\n",
      "\u001b[K    100% |████████████████████████████████| 911kB 959kB/s ta 0:00:01\n",
      "\u001b[?25hCollecting urllib3 (from selenium)\n",
      "\u001b[33m  Cache entry deserialization failed, entry ignored\u001b[0m\n",
      "\u001b[33m  Cache entry deserialization failed, entry ignored\u001b[0m\n",
      "  Downloading https://files.pythonhosted.org/packages/e6/60/247f23a7121ae632d62811ba7f273d0e58972d75e58a94d329d51550a47d/urllib3-1.25.3-py2.py3-none-any.whl (150kB)\n",
      "\u001b[K    100% |████████████████████████████████| 153kB 2.1MB/s ta 0:00:01\n",
      "\u001b[?25hInstalling collected packages: urllib3, selenium\n",
      "Successfully installed selenium-3.141.0 urllib3-1.25.3\n"
     ]
    }
   ],
   "source": [
    "!pip install selenium"
   ]
  },
  {
   "cell_type": "code",
   "execution_count": 18,
   "metadata": {},
   "outputs": [],
   "source": [
    "from   selenium import webdriver\n",
    "from   selenium.common.exceptions import TimeoutException\n",
    "  \n",
    "browser = webdriver.Firefox()\n"
   ]
  },
  {
   "cell_type": "code",
   "execution_count": 19,
   "metadata": {},
   "outputs": [],
   "source": [
    "results_base_url = \"https://elections.miottawa.org/ElectionResults/\""
   ]
  },
  {
   "cell_type": "code",
   "execution_count": 20,
   "metadata": {},
   "outputs": [],
   "source": [
    "browser.get(results_base_url)"
   ]
  },
  {
   "cell_type": "code",
   "execution_count": 21,
   "metadata": {},
   "outputs": [
    {
     "data": {
      "text/plain": [
       "<selenium.webdriver.firefox.webelement.FirefoxWebElement (session=\"9c23cf21-0f3b-44b4-8f02-96960fa73f47\", element=\"ae5065d9-e28f-4325-a6ee-187438f5fa0d\")>"
      ]
     },
     "execution_count": 21,
     "metadata": {},
     "output_type": "execute_result"
    }
   ],
   "source": [
    "browser.find_element_by_id(\"ddElections\")"
   ]
  },
  {
   "cell_type": "code",
   "execution_count": 22,
   "metadata": {},
   "outputs": [],
   "source": [
    "election_select = browser.find_element_by_id(\"ddElections\")"
   ]
  },
  {
   "cell_type": "code",
   "execution_count": 23,
   "metadata": {},
   "outputs": [],
   "source": [
    "election_select.click()"
   ]
  },
  {
   "cell_type": "code",
   "execution_count": 24,
   "metadata": {},
   "outputs": [
    {
     "data": {
      "text/plain": [
       "'Select\\nAugust 6th, 2019\\nMay 7th, 2019\\nNovember 6th, 2018\\nAugust 7th, 2018\\nMay 8th, 2018\\nNovember 7th, 2017\\nAugust 8th, 2017\\nMay 2nd, 2017\\nNovember 8th, 2016\\nAugust 2nd, 2016\\nMay 3rd, 2016\\nMarch 8th, 2016\\nNovember 3rd, 2015\\nAugust 4th, 2015\\nMay 5th, 2015\\nFebruary 24th, 2015\\nNovember 4th, 2014\\nAugust 5th, 2014\\nMay 6th, 2014\\nNovember 5th, 2013\\nMay 7th, 2013\\nNovember 6th, 2012\\nAugust 7th, 2012\\nMay 8th, 2012\\nFebruary 28th, 2012\\nNovember, 8th 2011'"
      ]
     },
     "execution_count": 24,
     "metadata": {},
     "output_type": "execute_result"
    }
   ],
   "source": [
    "election_select.text"
   ]
  },
  {
   "cell_type": "code",
   "execution_count": 25,
   "metadata": {},
   "outputs": [
    {
     "data": {
      "text/plain": [
       "['Select',\n",
       " 'August 6th, 2019',\n",
       " 'May 7th, 2019',\n",
       " 'November 6th, 2018',\n",
       " 'August 7th, 2018',\n",
       " 'May 8th, 2018',\n",
       " 'November 7th, 2017',\n",
       " 'August 8th, 2017',\n",
       " 'May 2nd, 2017',\n",
       " 'November 8th, 2016',\n",
       " 'August 2nd, 2016',\n",
       " 'May 3rd, 2016',\n",
       " 'March 8th, 2016',\n",
       " 'November 3rd, 2015',\n",
       " 'August 4th, 2015',\n",
       " 'May 5th, 2015',\n",
       " 'February 24th, 2015',\n",
       " 'November 4th, 2014',\n",
       " 'August 5th, 2014',\n",
       " 'May 6th, 2014',\n",
       " 'November 5th, 2013',\n",
       " 'May 7th, 2013',\n",
       " 'November 6th, 2012',\n",
       " 'August 7th, 2012',\n",
       " 'May 8th, 2012',\n",
       " 'February 28th, 2012',\n",
       " 'November, 8th 2011']"
      ]
     },
     "execution_count": 25,
     "metadata": {},
     "output_type": "execute_result"
    }
   ],
   "source": [
    "election_select.text.split(\"\\n\")"
   ]
  },
  {
   "cell_type": "code",
   "execution_count": 13,
   "metadata": {},
   "outputs": [
    {
     "data": {
      "text/plain": [
       "''"
      ]
     },
     "execution_count": 13,
     "metadata": {},
     "output_type": "execute_result"
    }
   ],
   "source": [
    "election_select.get_attribute(\"value\")"
   ]
  },
  {
   "cell_type": "code",
   "execution_count": 14,
   "metadata": {},
   "outputs": [],
   "source": [
    "election_select.send_keys('November, 8th 2011')"
   ]
  },
  {
   "cell_type": "code",
   "execution_count": 15,
   "metadata": {},
   "outputs": [
    {
     "data": {
      "text/plain": [
       "<selenium.webdriver.firefox.webelement.FirefoxWebElement (session=\"99e5b4a6-17e9-493a-884b-1713b5837d80\", element=\"03a09cab-df15-4e4a-a856-b8d4166889b8\")>"
      ]
     },
     "execution_count": 15,
     "metadata": {},
     "output_type": "execute_result"
    }
   ],
   "source": [
    "browser.find_element_by_link_text(\"Export\")"
   ]
  },
  {
   "cell_type": "code",
   "execution_count": 16,
   "metadata": {},
   "outputs": [],
   "source": [
    "export_link = browser.find_element_by_link_text(\"Export\")"
   ]
  },
  {
   "cell_type": "code",
   "execution_count": 17,
   "metadata": {},
   "outputs": [],
   "source": [
    "export_link.click()"
   ]
  },
  {
   "cell_type": "code",
   "execution_count": null,
   "metadata": {},
   "outputs": [],
   "source": [
    "browser.sa"
   ]
  }
 ],
 "metadata": {
  "kernelspec": {
   "display_name": "Python 3",
   "language": "python",
   "name": "python3"
  },
  "language_info": {
   "codemirror_mode": {
    "name": "ipython",
    "version": 3
   },
   "file_extension": ".py",
   "mimetype": "text/x-python",
   "name": "python",
   "nbconvert_exporter": "python",
   "pygments_lexer": "ipython3",
   "version": "3.7.3"
  }
 },
 "nbformat": 4,
 "nbformat_minor": 2
}
